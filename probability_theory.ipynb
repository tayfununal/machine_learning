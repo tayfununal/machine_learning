{
  "nbformat": 4,
  "nbformat_minor": 0,
  "metadata": {
    "colab": {
      "private_outputs": true,
      "provenance": [],
      "authorship_tag": "ABX9TyPm+1K1BSP8v3v0mVB9b71H",
      "include_colab_link": true
    },
    "kernelspec": {
      "name": "python3",
      "display_name": "Python 3"
    },
    "language_info": {
      "name": "python"
    }
  },
  "cells": [
    {
      "cell_type": "markdown",
      "metadata": {
        "id": "view-in-github",
        "colab_type": "text"
      },
      "source": [
        "<a href=\"https://colab.research.google.com/github/tayfununal/machine_learning/blob/main/probability_theory.ipynb\" target=\"_parent\"><img src=\"https://colab.research.google.com/assets/colab-badge.svg\" alt=\"Open In Colab\"/></a>"
      ]
    },
    {
      "cell_type": "markdown",
      "source": [
        "# **Probability Theory**"
      ],
      "metadata": {
        "id": "zbWqwz9OflRR"
      }
    },
    {
      "cell_type": "markdown",
      "source": [
        "## **Random Variables**"
      ],
      "metadata": {
        "id": "GGjdrygvizVe"
      }
    },
    {
      "cell_type": "markdown",
      "source": [
        "**<u>Definition</u>:**\n",
        "\n",
        "$~~~~~~$A random variable is **a variable whose value is unknown or a function that assigns values to each of an experiment's outcomes**."
      ],
      "metadata": {
        "id": "ppLzeA7lj-cu"
      }
    },
    {
      "cell_type": "markdown",
      "source": [
        "### **Discrete Random Variables**"
      ],
      "metadata": {
        "id": "lK3zDjI-i5mP"
      }
    },
    {
      "cell_type": "markdown",
      "source": [
        "**<u>Definition</u>:**\n",
        "\n",
        "$~~~~~~$If the values of X that can take is **finite** or **countable** then X is **discrete random variable**.\n",
        "\n",
        "$\\space$\n",
        "\n",
        "**Probability Function:**</br>\n",
        "$\\space$\n",
        "<hr>\n",
        "$~~~~~~$If $X$ is <b>finite</b> like $X= \\{x_1,x_2,\\dots, x_N\\}$ then the probability function is following:\n",
        "\n",
        "\\begin{align}\n",
        "                f(x_i) = p(X=x_i) \\quad for \\quad i= 1,2,\\dots,N\n",
        "\\end{align}\n",
        "\n",
        "and $f(x_i)$ provides the following properties:\n",
        "\n",
        "$\\space$\n",
        "\n",
        "\\begin{align}\n",
        "                  \\mathbf{1}. & \\quad f(x_i)\\ge 0 \\quad i=1,2,\\dots,N \\\\\n",
        "                  \\space \\\\\n",
        "                  \\mathbf{2}. & \\quad \\sum_{i=1}^{N} f(x_i) = 1\n",
        "\\end{align}\n",
        "$\\space$\n",
        "\n",
        "<hr>\n",
        "$~~~~~~$If $X$ is <b>countable</b> like $X= \\{x_1,x_2,\\dots, x_N,\\dots\\}$ then the probability function is following:\n",
        "\n",
        "\\begin{align}\n",
        "                f(x_i) = p(X=x_i) \\quad for \\quad i= 1,2,\\dots,N,\\dots\n",
        "\\end{align}\n",
        "\n",
        "and $f(x_i)$ provides the following properties:\n",
        "\n",
        "$\\space$\n",
        "\n",
        "\\begin{align}\n",
        "                  \\mathbf{1}. & \\quad f(x_i)\\ge 0 \\quad i=1,2,\\dots,N,\\dots \\\\\n",
        "                  \\space \\\\\n",
        "                  \\mathbf{2}. & \\quad \\sum_{i=1}^{\\infty} f(x_i) = 1\n",
        "\\end{align}\n",
        "$\\space$\n",
        "<hr>\n",
        "<b>Cumulative Distribution Function (Cdf):</b>\n",
        "\n",
        "\\begin{align}\n",
        "                  F(x) = P(X \\le x) = \\sum_{x_i \\le x} f(x_i)\n",
        "\\end{align}\n"
      ],
      "metadata": {
        "id": "pAV4MqkHjCAd"
      }
    },
    {
      "cell_type": "markdown",
      "source": [
        "### **Continuous Random Variables**"
      ],
      "metadata": {
        "id": "rKSq3f3gyJUJ"
      }
    },
    {
      "cell_type": "markdown",
      "source": [
        "**<u>Definition</u>:**\n",
        "\n",
        "$~~~~~~$If $X$ is a continuous random variables $X$ take on an <b>infinite</b> number of possible values.\n",
        "\n",
        "**Probability Density Function (Pdf):**</br>\n",
        "$\\space$\n",
        "\n",
        "\\begin{align}\n",
        "                f(x) = p(X=x) \\quad for \\quad x\\in(-\\infty,\\infty)\n",
        "\\end{align}\n",
        "\n",
        "and $f(x_i)$ provides the following properties:\n",
        "\n",
        "$\\space$\n",
        "\n",
        "\\begin{align}\n",
        "                  \\mathbf{1}. & \\quad f(x)\\ge 0 \\quad for \\quad \\forall x\\in(-\\infty,\\infty) \\\\\n",
        "                  \\space \\\\\n",
        "                  \\mathbf{2}. & \\quad \\int_{-\\infty}^{\\infty} f(x)dx = 1\n",
        "\\end{align}\n",
        "$\\space$\n",
        "<hr>\n",
        "<b>Cumulative Distribution Function (Cdf):</b>\n",
        "\n",
        "\\begin{align}\n",
        "                  F(x) = P(X \\le x) = \\int_{-\\infty}^{x} f(s)ds\n",
        "\\end{align}"
      ],
      "metadata": {
        "id": "F3zB2LClyO4_"
      }
    },
    {
      "cell_type": "markdown",
      "source": [
        "### **Random Variables with 2 Dimension**"
      ],
      "metadata": {
        "id": "EBZy6hDf4v1R"
      }
    },
    {
      "cell_type": "markdown",
      "source": [
        "<u><h2>**Discrete Random Variables for 2 Dimensions Random Variables**</h2></u>\n",
        "\n",
        "$\\space$\n",
        "\n",
        "Suppose that $(X,Y)$ ordered binary defined in an event space S is **discrete random variable**.\n",
        "\n",
        "**Joint Probability Function:**\n",
        "\n",
        "$\\space$\n",
        "\n",
        "\\begin{align}\n",
        "              f(x_i,y_j) = p(X=x_i,Y=y_j) \\quad for \\quad i=1,2,\\dots,N \\quad and \\quad j=1,2,\\dots,M\n",
        "\\end{align}\n",
        "\n",
        "$\\space$\n",
        "\n",
        "and $f(x_i,y_j)$ provides the following properties:\n",
        "\n",
        "\\begin{align}\n",
        "                  \\mathbf{1}. & \\quad f(x_i,y_j)\\ge 0 \\quad for \\quad \\forall i,j \\\\\n",
        "                  \\space \\\\\n",
        "                  \\mathbf{2}. & \\quad \\sum_{j=1}^{M} \\sum_{i=1}^{N}  f(x_i,y_j) = 1\n",
        "\\end{align}\n",
        "\n",
        "**Marginal Probability Function:**\n",
        "\n",
        "$\\space$\n",
        "\n",
        "\\begin{align}\n",
        "                f_x(x_i) = \\sum_{j=1}^{M} f(x_i,y_j)  \\quad and \\quad \\sum_{i=1}^{N} f_x(x_i) = 1 \\\\ \n",
        "                \\space \\\\\n",
        "                f_y(y_j) = \\sum_{i=1}^{N} f(x_i,y_j)  \\quad and \\quad \\sum_{j=1}^{M} f_y(y_i) = 1\n",
        "\\end{align}"
      ],
      "metadata": {
        "id": "MuWr_owy5C8K"
      }
    },
    {
      "cell_type": "markdown",
      "source": [
        "<u><h2>**Continuous Random Variables for 2 Dimensions Random Variables**</h2></u>\n",
        "\n",
        "$\\space$\n",
        "\n",
        "Suppose that $(X,Y)$ defined in a D region of the plane is **continuous random variable**.\n",
        "\n",
        "$\\space$\n",
        "\n",
        "**Joint Probability Density Function:**\n",
        "\n",
        "$\\space$\n",
        "\n",
        "\\begin{align}\n",
        "              f(x,y) = p(X=x,Y=y) \\quad for \\quad (x,y)\\in D\n",
        "\\end{align}\n",
        "\n",
        "$\\space$\n",
        "\n",
        "and $f(x,y)$ provides the following properties:\n",
        "\n",
        "\\begin{align}\n",
        "                  \\mathbf{1}. & \\quad f(x,y)\\ge 0 \\quad for \\quad \\forall (x,y)\\in D \\\\\n",
        "                  \\space\\\\\n",
        "                  \\mathbf{2}. & \\quad \\iint_D  f(x,y) dxdy= 1\n",
        "\\end{align}\n",
        "\n",
        "$\\space$\n",
        "\n",
        "**Marginal Probability Density Function:**\n",
        "\n",
        "$\\space$\n",
        "\n",
        "\\begin{align}\n",
        "                f_x(x) = \\int_{-∞}^{∞} f(x,y)dy  \\quad and \\quad \\int_{-∞}^{∞} f_x(x)dx = 1 \\\\ \n",
        "                \\space \\\\\n",
        "                f_y(y) = \\int_{-∞}^{∞} f(x,y)dx  \\quad and \\quad \\int_{-∞}^{∞} f_y(y)dy = 1\n",
        "\\end{align}"
      ],
      "metadata": {
        "id": "7_kZ5ZRpASsz"
      }
    },
    {
      "cell_type": "markdown",
      "source": [
        "<u><h2><b>Joint Distribution Function (CDF) for Discrete or Continuous</b></h2></u>\n",
        "\n",
        "$\\space$\n",
        "\n",
        "\\begin{align}\n",
        "              F(x) = P(X \\le x, Y \\le y)\n",
        "\\end{align}\n",
        "\n",
        "**NOTE:** Relation between cdf and pdf.\n",
        "\n",
        "\\begin{align}\n",
        "              \\frac{\\partial ^2 F(x)}{\\partial x  \\partial y} = f(x,y)\n",
        "\\end{align}"
      ],
      "metadata": {
        "id": "wZJp2CujFMcV"
      }
    }
  ]
}