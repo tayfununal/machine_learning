{
  "nbformat": 4,
  "nbformat_minor": 0,
  "metadata": {
    "colab": {
      "private_outputs": true,
      "provenance": [],
      "authorship_tag": "ABX9TyPO83awtRTsetSIZL67LPkr",
      "include_colab_link": true
    },
    "kernelspec": {
      "name": "python3",
      "display_name": "Python 3"
    },
    "language_info": {
      "name": "python"
    }
  },
  "cells": [
    {
      "cell_type": "markdown",
      "metadata": {
        "id": "view-in-github",
        "colab_type": "text"
      },
      "source": [
        "<a href=\"https://colab.research.google.com/github/tayfununal/machine_learning/blob/main/curve_fitting_with_polynomial.ipynb\" target=\"_parent\"><img src=\"https://colab.research.google.com/assets/colab-badge.svg\" alt=\"Open In Colab\"/></a>"
      ]
    },
    {
      "cell_type": "code",
      "execution_count": null,
      "metadata": {
        "id": "mQ5AodbAreld"
      },
      "outputs": [],
      "source": [
        "import numpy as np\n",
        "import matplotlib.pyplot as plt"
      ]
    },
    {
      "cell_type": "code",
      "source": [
        "x = np.linspace(0,1,10)\n",
        "\n",
        "def f(x):\n",
        "  return np.sin(2 * np.pi * x)\n",
        "\n",
        "plt.plot(x,f(x))"
      ],
      "metadata": {
        "id": "Nqkc64eJrkBd"
      },
      "execution_count": null,
      "outputs": []
    },
    {
      "cell_type": "code",
      "source": [
        "def noisy_f(x:np.ndarray,scale=0.25):\n",
        "  noisy = np.random.normal(loc=0.0, scale=scale, size=x.shape)\n",
        "  return f(x) + noisy"
      ],
      "metadata": {
        "id": "LMp-EIkDswwH"
      },
      "execution_count": null,
      "outputs": []
    },
    {
      "cell_type": "code",
      "source": [
        "t = noisy_f(x)\n",
        "plt.scatter(x,t)\n",
        "plt.plot(x,f(x))"
      ],
      "metadata": {
        "id": "16TiCEdFx6k3"
      },
      "execution_count": null,
      "outputs": []
    },
    {
      "cell_type": "code",
      "source": [
        "X = np.zeros((10,9))\n",
        "\n",
        "for i in range(10):\n",
        "  X[i,:] = [x[i]**z for z in range(1,10)]\n",
        "\n",
        "plus_one = np.ones((10,1))\n",
        "X = np.concatenate((plus_one,X),axis=1)"
      ],
      "metadata": {
        "id": "glcEl5Wux7hS"
      },
      "execution_count": null,
      "outputs": []
    },
    {
      "cell_type": "code",
      "source": [
        "w = np.matmul(np.matmul(np.linalg.inv(np.matmul(X.T,X)),X.T),t.reshape(10,1))"
      ],
      "metadata": {
        "id": "TkKc_HEaydrq"
      },
      "execution_count": null,
      "outputs": []
    },
    {
      "cell_type": "code",
      "source": [
        "plt.plot(x,np.matmul(X,w))\n",
        "plt.plot(x,f(x))"
      ],
      "metadata": {
        "id": "22Xzd7u56TGd"
      },
      "execution_count": null,
      "outputs": []
    },
    {
      "cell_type": "code",
      "source": [],
      "metadata": {
        "id": "ECNrlzyF6qp-"
      },
      "execution_count": null,
      "outputs": []
    }
  ]
}